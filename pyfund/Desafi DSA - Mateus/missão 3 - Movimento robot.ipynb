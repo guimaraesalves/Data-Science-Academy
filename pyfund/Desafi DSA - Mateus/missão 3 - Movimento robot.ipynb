{
 "cells": [
  {
   "cell_type": "code",
   "execution_count": 1,
   "metadata": {},
   "outputs": [
    {
     "name": "stdout",
     "output_type": "stream",
     "text": [
      "Versão da Linguagem Python Usada Neste Jupyter Notebook: 3.8.5\n"
     ]
    }
   ],
   "source": [
    "# Versão da Linguagem Python\n",
    "from platform import python_version\n",
    "print('Versão da Linguagem Python Usada Neste Jupyter Notebook:', python_version())"
   ]
  },
  {
   "cell_type": "markdown",
   "metadata": {},
   "source": [
    "## Missão: Implementar um algoritmo para mover um robô do canto superior esquerdo para o canto inferior direito de uma grade."
   ]
  },
  {
   "cell_type": "markdown",
   "metadata": {},
   "source": [
    "## Nível de Dificuldade: Médio"
   ]
  },
  {
   "cell_type": "markdown",
   "metadata": {},
   "source": [
    "## Teste Cases\n",
    "\n",
    "<pre>\n",
    "o = célula válida\n",
    "x = célula inválida\n",
    "\n",
    "   0  1  2  3\n",
    "0  o  o  o  o\n",
    "1  o  x  o  o\n",
    "2  o  o  x  o\n",
    "3  x  o  o  o\n",
    "4  o  o  x  o\n",
    "5  o  o  o  x\n",
    "6  o  x  o  x\n",
    "7  o  x  o  o\n",
    "</pre>\n",
    "\n",
    "* Caso geral\n",
    "\n",
    "```\n",
    "Saída esperada = [(0, 0), (1, 0), (2, 0),\n",
    "                  (2, 1), (3, 1), (4, 1),\n",
    "                  (5, 1), (5, 2), (6, 2), \n",
    "                  (7, 2), (7, 3)]\n",
    "```\n",
    "\n",
    "* Nenhum caminho válido, por exemplo, linha 7, col 2 é inválido\n",
    "* Nenhuma entrada\n",
    "* Matriz vazia"
   ]
  },
  {
   "cell_type": "markdown",
   "metadata": {},
   "source": [
    "Para chegar à linha r e coluna c [r, c], precisaremos ter ido:\n",
    "\n",
    "* Direito de [r, c-1] se esta for uma célula válida - [Caminho 1]\n",
    "* Abaixo de [r-1, c] se esta for uma célula válida - [Caminho 2]\n",
    "\n",
    "Se olharmos para [Caminho 1], para chegar a [r, c-1], precisaremos ter ido:\n",
    "\n",
    "* Direito de [r, c-2] se esta for uma célula válida\n",
    "* Abaixo de [r-1, c-1] se esta for uma célula válida\n",
    "\n",
    "Continue esse processo até chegar à célula inicial ou até descobrir que não há caminho.\n",
    "\n",
    "Caso base:\n",
    "\n",
    "* Se a linha ou coluna de entrada for <0, ou se [linha, coluna] não for uma célula válida\n",
    "    * Retorna falso\n",
    "\n",
    "Caso recursivo:\n",
    "\n",
    "Vamos memorizar a solução para melhorar o desempenho.\n",
    "\n",
    "* Use o memorando para ver se já processamos a célula atual\n",
    "* Se alguma das opções a seguir for True, acrescente a célula atual ao caminho e defina nosso resultado como True:\n",
    "    * Estamos na célula inicial\n",
    "    * Obtemos um resultado True de uma chamada recursiva em:\n",
    "        * [linha, col-1]\n",
    "        * [linha 1, col]\n",
    "* Atualize o memorando\n",
    "* Retorne o resultado\n",
    "\n",
    "Complexidade:\n",
    "* Tempo: O (linha * col)\n",
    "* Espaço: O (linha * col) para a profundidade de recursão"
   ]
  },
  {
   "cell_type": "markdown",
   "metadata": {},
   "source": [
    "# Solução"
   ]
  },
  {
   "cell_type": "code",
   "execution_count": 2,
   "metadata": {},
   "outputs": [],
   "source": [
    "class Grid(object):\n",
    "\n",
    "    def find_path(self, matrix):\n",
    "        if matrix is None or not matrix:\n",
    "            return None\n",
    "        cache = {}\n",
    "        path = []\n",
    "        if self._find_path(matrix, len(matrix) - 1, \n",
    "                           len(matrix[0]) - 1, cache, path):\n",
    "            return path\n",
    "        else:\n",
    "            return None\n",
    "\n",
    "    def _find_path(self, matrix, row, col, cache, path):\n",
    "        if row < 0 or col < 0 or not matrix[row][col]:\n",
    "            return False\n",
    "        cell = (row, col)\n",
    "        if cell in cache:\n",
    "            return cache[cell]\n",
    "        cache[cell] = (row == 0 and col == 0 or\n",
    "                       self._find_path(matrix, row, col - 1, cache, path) or\n",
    "                       self._find_path(matrix, row - 1, col, cache, path))\n",
    "        if cache[cell]:\n",
    "            path.append(cell)\n",
    "        return cache[cell]"
   ]
  },
  {
   "cell_type": "markdown",
   "metadata": {},
   "source": [
    "# Teste da Solução"
   ]
  },
  {
   "cell_type": "code",
   "execution_count": 3,
   "metadata": {},
   "outputs": [
    {
     "name": "stdout",
     "output_type": "stream",
     "text": [
      "Writing missao3.py\n"
     ]
    }
   ],
   "source": [
    "%%writefile missao3.py\n",
    "from nose.tools import assert_equal\n",
    "\n",
    "\n",
    "class TestGridPath(object):\n",
    "\n",
    "    def test_grid_path(self):\n",
    "        grid = Grid()\n",
    "        assert_equal(grid.find_path(None), None)\n",
    "        assert_equal(grid.find_path([[]]), None)\n",
    "        max_rows = 8\n",
    "        max_cols = 4\n",
    "        matrix = [[1] * max_cols for _ in range(max_rows)]\n",
    "        matrix[1][1] = 0\n",
    "        matrix[2][2] = 0\n",
    "        matrix[3][0] = 0\n",
    "        matrix[4][2] = 0\n",
    "        matrix[5][3] = 0\n",
    "        matrix[6][1] = 0\n",
    "        matrix[6][3] = 0\n",
    "        matrix[7][1] = 0\n",
    "        result = grid.find_path(matrix)\n",
    "        expected = [(0, 0), (1, 0), (2, 0),\n",
    "                    (2, 1), (3, 1), (4, 1),\n",
    "                    (5, 1), (5, 2), (6, 2), \n",
    "                    (7, 2), (7, 3)]\n",
    "        assert_equal(result, expected)\n",
    "        matrix[7][2] = 0\n",
    "        result = grid.find_path(matrix)\n",
    "        assert_equal(result, None)\n",
    "        print('Sua solução foi executada com sucesso! Parabéns!')\n",
    "\n",
    "\n",
    "def main():\n",
    "    test = TestGridPath()\n",
    "    test.test_grid_path()\n",
    "\n",
    "\n",
    "if __name__ == '__main__':\n",
    "    main()"
   ]
  },
  {
   "cell_type": "code",
   "execution_count": 4,
   "metadata": {},
   "outputs": [
    {
     "name": "stdout",
     "output_type": "stream",
     "text": [
      "Sua solução foi executada com sucesso! Parabéns!\n"
     ]
    }
   ],
   "source": [
    "%run -i missao3.py"
   ]
  },
  {
   "cell_type": "code",
   "execution_count": null,
   "metadata": {},
   "outputs": [],
   "source": []
  }
 ],
 "metadata": {
  "kernelspec": {
   "display_name": "Python 3",
   "language": "python",
   "name": "python3"
  },
  "language_info": {
   "codemirror_mode": {
    "name": "ipython",
    "version": 3
   },
   "file_extension": ".py",
   "mimetype": "text/x-python",
   "name": "python",
   "nbconvert_exporter": "python",
   "pygments_lexer": "ipython3",
   "version": "3.8.5"
  }
 },
 "nbformat": 4,
 "nbformat_minor": 4
}

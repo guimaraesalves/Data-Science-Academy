{
 "cells": [
  {
   "cell_type": "markdown",
   "metadata": {},
   "source": [
    "# Desafios \n",
    "Objetivo de ajudar no Desenvolvimento das habilidades analíticas e de programação. Um conjunto de 5 missões que vão do nível de dificuldade baixo ao avançado, com diversas atividades que formam a base em programação, Análise de Dados e Inteligência Artificial.\n"
   ]
  },
  {
   "cell_type": "markdown",
   "metadata": {},
   "source": [
    "## Missão 1:\n",
    "**Implementar um algoritmo para determinar se uma string possui os caracteres exclusivos.**"
   ]
  },
  {
   "cell_type": "markdown",
   "metadata": {},
   "source": [
    "#### Métodos de Strings"
   ]
  },
  {
   "cell_type": "markdown",
   "metadata": {},
   "source": [
    "1. - Faça um scan cada caracter;\n",
    "2. - Para cada caracter:Se o caracter não existir em um mapa de hash, adicione o caractere a um mapa de hash Senão, retorne False;\n",
    "3. - Retornar Verdadeiro;\n"
   ]
  },
  {
   "cell_type": "code",
   "execution_count": null,
   "metadata": {},
   "outputs": [],
   "source": []
  }
 ],
 "metadata": {
  "kernelspec": {
   "display_name": "Python 3",
   "language": "python",
   "name": "python3"
  },
  "language_info": {
   "codemirror_mode": {
    "name": "ipython",
    "version": 3
   },
   "file_extension": ".py",
   "mimetype": "text/x-python",
   "name": "python",
   "nbconvert_exporter": "python",
   "pygments_lexer": "ipython3",
   "version": "3.8.5"
  }
 },
 "nbformat": 4,
 "nbformat_minor": 4
}

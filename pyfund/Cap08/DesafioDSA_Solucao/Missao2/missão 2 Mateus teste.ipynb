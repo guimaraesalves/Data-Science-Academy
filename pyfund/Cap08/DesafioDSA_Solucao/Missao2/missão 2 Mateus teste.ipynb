{
 "cells": [
  {
   "cell_type": "code",
   "execution_count": 6,
   "metadata": {},
   "outputs": [
    {
     "ename": "IndentationError",
     "evalue": "unindent does not match any outer indentation level (<tokenize>, line 14)",
     "output_type": "error",
     "traceback": [
      "\u001b[0;36m  File \u001b[0;32m\"<tokenize>\"\u001b[0;36m, line \u001b[0;32m14\u001b[0m\n\u001b[0;31m    return array\u001b[0m\n\u001b[0m    ^\u001b[0m\n\u001b[0;31mIndentationError\u001b[0m\u001b[0;31m:\u001b[0m unindent does not match any outer indentation level\n"
     ]
    }
   ],
   "source": [
    "import math\n",
    "\n",
    "## Teste da minha solução\n",
    "class PrimeGenerator(object):\n",
    "\n",
    "    def primos(self, n):\n",
    "        array = [true] * max_num\n",
    "        array[0] = False\n",
    "        array[1] = False\n",
    "        prime = 2\n",
    "        while prime <= math.sqrt(n):\n",
    "                self._cross_off(array, prime)\n",
    "                prime = self._next_prime(array, prime)\n",
    "            return array\n",
    "    \n",
    "    def _cross_off(self, array, prime):\n",
    "        for index in range(prime*prime, len(array), prime):\n",
    "            array[index] = False\n",
    "            \n",
    "    def _next_prime(self, array, prime):\n",
    "        next = prime + 1\n",
    "        while next < len(array) and not array[next]:\n",
    "            next += 1\n",
    "        return next"
   ]
  },
  {
   "cell_type": "code",
   "execution_count": null,
   "metadata": {},
   "outputs": [],
   "source": []
  }
 ],
 "metadata": {
  "kernelspec": {
   "display_name": "Python 3",
   "language": "python",
   "name": "python3"
  },
  "language_info": {
   "codemirror_mode": {
    "name": "ipython",
    "version": 3
   },
   "file_extension": ".py",
   "mimetype": "text/x-python",
   "name": "python",
   "nbconvert_exporter": "python",
   "pygments_lexer": "ipython3",
   "version": "3.8.5"
  }
 },
 "nbformat": 4,
 "nbformat_minor": 4
}
